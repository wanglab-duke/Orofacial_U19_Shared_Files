{
 "cells": [
  {
   "cell_type": "markdown",
   "metadata": {},
   "source": [
    "# To run this setup, a DJ database must be installed and running  "
   ]
  },
  {
   "cell_type": "markdown",
   "metadata": {},
   "source": [
    "## Import Datajoint"
   ]
  },
  {
   "cell_type": "code",
   "execution_count": 1,
   "metadata": {},
   "outputs": [],
   "source": [
    "import datajoint as dj"
   ]
  },
  {
   "cell_type": "markdown",
   "metadata": {},
   "source": [
    "## Connect to the database"
   ]
  },
  {
   "cell_type": "markdown",
   "metadata": {},
   "source": [
    "Configure the connection."
   ]
  },
  {
   "cell_type": "code",
   "execution_count": 4,
   "metadata": {},
   "outputs": [
    {
     "data": {
      "text/plain": [
       "{   'connection.charset': '',\n",
       "    'connection.init_function': None,\n",
       "    'database.host': 'neo-server-two.dhe.duke.edu',\n",
       "    'database.password': '#####',\n",
       "    'database.port': 3306,\n",
       "    'database.reconnect': True,\n",
       "    'database.user': 'vincent',\n",
       "    'display.limit': 12,\n",
       "    'display.show_tuple_count': True,\n",
       "    'display.width': 14,\n",
       "    'fetch_format': 'array',\n",
       "    'history': [   'No config file found, using default settings.',\n",
       "                   'Updated from config file: dj_local_conf.json',\n",
       "                   'Updated from config file: dj_local_conf.json'],\n",
       "    'loglevel': 'INFO',\n",
       "    'safemode': True}"
      ]
     },
     "execution_count": 4,
     "metadata": {},
     "output_type": "execute_result"
    }
   ],
   "source": [
    "dj.config"
   ]
  },
  {
   "cell_type": "markdown",
   "metadata": {},
   "source": [
    "Set `database.host`, `database.user` and `database.password`."
   ]
  },
  {
   "cell_type": "markdown",
   "metadata": {},
   "source": [
    "Set the `database.host` to point to the server (here: [neo-server-two.dhe.duke.edu]())."
   ]
  },
  {
   "cell_type": "code",
   "execution_count": 2,
   "metadata": {},
   "outputs": [],
   "source": [
    "dj.config['database.host'] = 'neo-server-two.dhe.duke.edu'"
   ]
  },
  {
   "cell_type": "markdown",
   "metadata": {},
   "source": [
    "and set your username and password (See [User Management](https://docs.datajoint.io/python/admin/3-accounts.html))"
   ]
  },
  {
   "cell_type": "code",
   "execution_count": 3,
   "metadata": {},
   "outputs": [],
   "source": [
    "dj.config['database.user'] = 'vincent'\n",
    "dj.config['database.password'] = '#####'"
   ]
  },
  {
   "cell_type": "code",
   "execution_count": 5,
   "metadata": {},
   "outputs": [],
   "source": [
    "### Test connection"
   ]
  },
  {
   "cell_type": "code",
   "execution_count": 3,
   "metadata": {},
   "outputs": [
    {
     "name": "stdout",
     "output_type": "stream",
     "text": [
      "Connecting vincent@neo-server-two.dhe.duke.edu:3306\n"
     ]
    },
    {
     "data": {
      "text/plain": [
       "DataJoint connection (connected) vincent@neo-server-two.dhe.duke.edu:3306"
      ]
     },
     "execution_count": 3,
     "metadata": {},
     "output_type": "execute_result"
    }
   ],
   "source": [
    "dj.conn()"
   ]
  },
  {
   "cell_type": "markdown",
   "metadata": {},
   "source": [
    "## Saving the configuration"
   ]
  },
  {
   "cell_type": "markdown",
   "metadata": {},
   "source": [
    "To make accessing the database easier for the next time, you can save the current DataJoint config to a local file that will be loaded automatically the next time."
   ]
  },
  {
   "cell_type": "code",
   "execution_count": 7,
   "metadata": {},
   "outputs": [],
   "source": [
    "dj.config.save_local()  # writes to dj_local_conf.json"
   ]
  },
  {
   "cell_type": "code",
   "execution_count": 33,
   "metadata": {
    "scrolled": true
   },
   "outputs": [
    {
     "name": "stdout",
     "output_type": "stream",
     "text": [
      "New password: ········\n",
      "Confirm password: ········\n"
     ]
    },
    {
     "name": "stderr",
     "output_type": "stream",
     "text": [
      "V:\\ProgramData\\Anaconda3\\lib\\site-packages\\datajoint\\connection.py:150: UserWarning: Mysql server has gone away. Reconnecting to the server.\n",
      "  warnings.warn(\"Mysql server has gone away. Reconnecting to the server.\")\n"
     ]
    },
    {
     "name": "stdout",
     "output_type": "stream",
     "text": [
      "Password updated.\n",
      "Update local setting? [yes, no]: yes\n",
      "Saved settings in dj_local_conf.json\n"
     ]
    }
   ],
   "source": [
    "dj.set_password()"
   ]
  },
  {
   "cell_type": "markdown",
   "metadata": {},
   "source": [
    "## Initialize Lab schema\n",
    "This database deals with general cases (e.g., lab members)."
   ]
  },
  {
   "cell_type": "code",
   "execution_count": 24,
   "metadata": {},
   "outputs": [],
   "source": [
    "import datajoint as dj\n",
    "\n",
    "schema = dj.schema(dj.config.get('database.prefix', '') + 'wanglab')\n",
    "\n",
    "\n",
    "@schema\n",
    "class Lab(dj.Manual):\n",
    "    definition = \"\"\" # Lab\n",
    "    lab : varchar(255)  #  lab conducting the study\n",
    "    ----\n",
    "    institution  : varchar(255)  # Institution to which the lab belongs\n",
    "    \"\"\"\n",
    "\n",
    "\n",
    "@schema\n",
    "class Keyword(dj.Lookup):\n",
    "    definition = \"\"\"\n",
    "    # Tag of study types\n",
    "    keyword : varchar(24)  \n",
    "    \"\"\"\n",
    "    contents = zip(['behavior', 'extracellular', 'phototagging'])\n",
    "\n",
    "\n",
    "@schema\n",
    "class Study(dj.Manual):\n",
    "    definition = \"\"\"\n",
    "    # Study \n",
    "    study : varchar(8)    # short name of the study\n",
    "    --- \n",
    "    study_description : varchar(255)   #  \n",
    "    -> Lab\n",
    "    \"\"\"\n",
    "\n",
    "\n",
    "@schema\n",
    "class StudyKeyword(dj.Manual):\n",
    "    definition = \"\"\"\n",
    "    # Study keyword (see general/notes)\n",
    "    -> Study\n",
    "    -> Keyword\n",
    "    \"\"\"\n",
    "\n",
    "\n",
    "@schema\n",
    "class Publication(dj.Manual):\n",
    "    definition = \"\"\"\n",
    "    # Publication\n",
    "    doi  : varchar(60)   # publication DOI\n",
    "    ----\n",
    "    full_citation : varchar(4000)\n",
    "    authors='' : varchar(4000)\n",
    "    title=''   : varchar(1024)\n",
    "    \"\"\"\n",
    "\n",
    "\n",
    "@schema\n",
    "class RelatedPublication(dj.Manual):\n",
    "    definition = \"\"\"\n",
    "    -> Study\n",
    "    -> Publication\n",
    "    \"\"\"\n",
    "\n",
    "\n",
    "@schema\n",
    "class AnimalSource(dj.Lookup):\n",
    "    definition = \"\"\"\n",
    "    animal_source  : varchar(30) \n",
    "    \"\"\"\n",
    "    contents = zip(['Jackson Labs', 'Allen Institute', 'Charles River', 'MMRRC', 'Taconic', 'Lab-made', 'Other'])\n",
    "\n",
    "\n",
    "@schema\n",
    "class Strains(dj.Lookup):\n",
    "    definition = \"\"\"  # Mouse strain\n",
    "    strain  : varchar(30)  # mouse strain    \n",
    "    \"\"\"\n",
    "    contents = zip(['C57BL6', 'Ai14', 'Ai32', 'Ai35', 'Ai65D',\n",
    "                    'Emx1_Cre', 'GAD2_Cre', 'vGLut2_Cre', 'Pv_Cre',\n",
    "                    'Pv_CreERt2', 'Pv_CreN', 'TrpV1_Cre', 'Netrin_G1_Cre',\n",
    "                    'FosTVA', 'Rphi_AP', 'Rphi_tomato', 'Rphi_GFP',\n",
    "                    'ChodlPLAP', 'Unspecified'])\n",
    "\n",
    "\n",
    "@schema\n",
    "class VectorSources(dj.Lookup):\n",
    "    definition = \"\"\"\n",
    "    virus_source   : varchar(60)\n",
    "    \"\"\"\n",
    "    contents = zip(['Janelia', 'UPenn', 'Addgene', 'UNC', 'Other'])\n",
    "\n",
    "\n",
    "@schema\n",
    "class VectorTypes(dj.Manual):\n",
    "    definition = \"\"\"\n",
    "    vector_type   : varchar(60)\n",
    "    \"\"\"\n",
    "    contents = zip(['Dextran', 'CTb', 'AAV', 'AAV2', 'AAV2_1',\n",
    "                    'AAV2_5', 'AAV2_8', 'AAV8', 'AAV2_9', 'AAV9', 'AAV',\n",
    "                    'retroAAV', 'LV', 'FuGB2_LV', 'RG_LV', 'CANE_LV',\n",
    "                    'EnVA_SAD_dG_RV', 'RG_CVS_N2cdG_RV', 'CANE_RV', \n",
    "                    'KainicAcid','Other'])\n",
    "\n",
    "\n",
    "@schema\n",
    "class Constructs(dj.Lookup):\n",
    "    definition = \"\"\"  # payload\n",
    "    construct  : varchar(60)  # type of construct that the vector carries    \n",
    "    \"\"\"\n",
    "    contents = zip(['Alexa568', 'TMR', 'GFP', 'EGFP', 'mNeonG',\n",
    "                    'tdTomato', 'mCherry', 'RFP', 'Cre', 'Syn_Cre', 'CreC',\n",
    "                    'EF1a_mCherry_IRES_WGA_Cre', 'EF1a_Flex_ChR2',\n",
    "                    'Flex_TVAmCherry', 'Flex_TVA_RG_GFP','Other','None'])\n",
    "\n",
    "\n",
    "@schema\n",
    "class User(dj.Lookup):\n",
    "    definition = \"\"\"\n",
    "    # User (lab member)\n",
    "    user_name  : varchar(24) #  database user name\n",
    "    ----\n",
    "    full_name = ''  : varchar(60)\n",
    "    \"\"\"\n",
    "\n",
    "\n",
    "@schema\n",
    "class Vectors(dj.Lookup):\n",
    "    definition = \"\"\"\n",
    "    vector_id : int unsigned\n",
    "    ---\n",
    "    -> VectorSources \n",
    "    -> VectorTypes\n",
    "    -> Constructs\n",
    "    -> User\n",
    "    titer           : Decimal(20,1) # \n",
    "    order_date      : date\n",
    "    remarks         : varchar(256)\n",
    "    \"\"\"\n",
    "\n",
    "    class Notes(dj.Part):\n",
    "        definition = \"\"\"\n",
    "        # Notes about the vector\n",
    "        -> Vectors\n",
    "        note_id     : int\n",
    "        ---\n",
    "        note        : varchar(256)\n",
    "        \"\"\"\n",
    "\n",
    "\n",
    "@schema\n",
    "class Rig(dj.Lookup):\n",
    "    definition = \"\"\"\n",
    "    # Rig (experimental setup)\n",
    "    rig_name  : varchar(30)   # experimental rig. E.g., in_vivo_ephys_1\n",
    "    ----\n",
    "    recording_system = '' : varchar(30) # e.g., Blackrock (very imnportant to determine AD V/bits)\n",
    "    location = '' : varchar(20) # e.g., 318\n",
    "    rig_description = ''  : varchar(1024) #\n",
    "    \"\"\"\n",
    "\n",
    "@schema\n",
    "class Subject(dj.Manual):\n",
    "    definition = \"\"\"\n",
    "    subject_id  : int   # institution animal ID  \n",
    "    --- \n",
    "    -> [nullable] User        # person responsible for the animal\n",
    "    species        : varchar(30)\n",
    "    date_of_birth=null : date  # YYYY-MM-DD optional  \n",
    "    sex='U' : enum('M', 'F', 'U')   #\n",
    "    cage_card=null : int # cage card optional\n",
    "    location       : varchar(30) # e.g., 009_colony\n",
    "    project_use    : varchar(255)\n",
    "    -> [nullable] AnimalSource # where was the animal ordered from\n",
    "    \"\"\"\n",
    "\n",
    "    class Strain(dj.Part):\n",
    "        definition = \"\"\"\n",
    "        -> Subject\n",
    "        -> Strains\n",
    "        ---\n",
    "        zygosity = 'Unknown' : enum('Het', 'Hom', 'Unknown')\n",
    "        type = 'Unknown'     : enum('Knock-in', 'Transgene', 'Unknown')\n",
    "        \"\"\"\n",
    "\n",
    "@schema\n",
    "class WaterRestriction(dj.Manual):\n",
    "    definition = \"\"\"\n",
    "    -> Subject\n",
    "    ---\n",
    "    wr_start_date               : date\n",
    "    wr_start_weight             : Decimal(6,3)\n",
    "    wr_threshold_weight         : Decimal(6,3)\n",
    "    \"\"\"\n",
    "\n",
    "\n",
    "@schema\n",
    "class TargetRegion(dj.Manual):\n",
    "    definition = \"\"\"\n",
    "    brain_region: varchar(32)\n",
    "    ---\n",
    "    description = null : varchar (4000) # describes brain region\n",
    "    \"\"\"\n",
    "    #contents = zip(['PrV', 'FN', 'VPM', 'PO', 'WhiskerPad', 'Tongue', 'Masster', 'SpVi',\n",
    "    # 'SpVir', 'S1', 'S2', 'Barrel', 'PPC', 'V1', 'CeA', 'BNST', 'ovBNST', 'PreLimbCx',\n",
    "    # 'InfLimbCx', 'CingCx', 'M1', 'NAc', 'CPu', 'InsCx', 'PMCo', 'PLCo',\n",
    "    # 'TeA', 'EctCx', 'PFCx', 'EntCx', 'SubTh', 'MBTh', 'MDTh', 'PAG', 'PBN',\n",
    "    # 'RT', 'SolT', 'Cerebellum', 'SC', 'XII', 'brainstem','vIRt', 'other', 'sham'])\n",
    "\n",
    "\n",
    "@schema\n",
    "class SkullReference(dj.Lookup):\n",
    "    definition = \"\"\"\n",
    "    skull_reference   : varchar(60)\n",
    "    \"\"\"\n",
    "    contents = zip(['Bregma', 'Lambda','InkMark','Other'])\n",
    "\n",
    "@schema\n",
    "class Hemisphere(dj.Lookup):\n",
    "    definition = \"\"\"\n",
    "    hemisphere: varchar(32)\n",
    "    \"\"\"\n",
    "    contents = zip(['left', 'right', 'both'])\n",
    "\n",
    "@schema\n",
    "class Surgery(dj.Manual):\n",
    "    definition = \"\"\"\n",
    "    -> Subject\n",
    "    surgery_id          : int      # surgery number\n",
    "    ---\n",
    "    -> User\n",
    "    start_time          : datetime # start time\n",
    "    end_time            : datetime # end time\n",
    "    surgery_description : varchar(256)\n",
    "    \"\"\"\n",
    "    class InjectionParameters(dj.Part):\n",
    "        definition = \"\"\"\n",
    "        # injections\n",
    "        -> master\n",
    "        injection_id : int\n",
    "        ---\n",
    "        -> Vectors\n",
    "        -> SkullReference\n",
    "        ml_location     : Decimal(8,3) # um from ref left is positive \n",
    "        ap_location     : Decimal(8,3) # um from ref anterior is positive\n",
    "        dv_location     : Decimal(8,3) # um from dura dorsal is positive \n",
    "        volume          : Decimal(10,3) # in nl\n",
    "        dilution        : Decimal (10, 2) # 1 to how much\n",
    "        description     : varchar(256)\n",
    "        \"\"\"\n",
    "\n",
    "    class Procedure(dj.Part):\n",
    "        definition = \"\"\"\n",
    "        # Other procedures than injection\n",
    "        -> master\n",
    "        procedure_id : int\n",
    "        ---\n",
    "        -> SkullReference\n",
    "        ml_location=null     : Decimal(8,3) # um from ref left is positive\n",
    "        ap_location=null     : Decimal(8,3) # um from ref anterior is positive\n",
    "        dv_location=null     : Decimal(8,3) # um from dura dorsal is positive \n",
    "        surgery_procedure_description     : varchar(1000)\n",
    "        \"\"\"\n",
    "\n",
    "\n",
    "@schema\n",
    "class SurgeryLocation(dj.Manual):\n",
    "    definition = \"\"\" # For surgeries that are not injections\n",
    "    -> Surgery.Procedure\n",
    "    ---\n",
    "    -> Hemisphere\n",
    "    -> TargetRegion \n",
    "    \"\"\"\n",
    "\n",
    "\n",
    "@schema\n",
    "class ProbeType(dj.Lookup):\n",
    "    definition = \"\"\"\n",
    "    probe_type: varchar(32)    \n",
    "    \"\"\"\n",
    "    contents = zip(['silicon_probe', 'tetrode_array', 'neuropixel','single_electrode'])\n",
    "\n",
    "\n",
    "@schema\n",
    "class Probe(dj.Lookup):\n",
    "    definition = \"\"\" # Description of a particular model of probe.\n",
    "    probe_name: varchar(128)  # String naming probe model\n",
    "    ---\n",
    "    -> ProbeType\n",
    "    channel_counts: tinyint  # number of channels in the probe\n",
    "    shank_counts: tinyint    # number of shanks in the probe\n",
    "    probe_comment='' :  varchar(1000)\n",
    "    \"\"\"\n",
    "\n",
    "    class Electrode(dj.Part):\n",
    "        definition = \"\"\"\n",
    "        -> master\n",
    "        electrode : int   # electrode on probe\n",
    "        shank_id: tinyint  # the shank id of this probe this channel is located on \n",
    "        ---\n",
    "        x_coord=NULL: float   # (um) x coordinate of the electrode within the probe\n",
    "        y_coord=NULL: float   # (um) y coordinate of the electrode within the probe\n",
    "        z_coord=NULL: float   # (um) z coordinate of the electrode within the probe\n",
    "        \"\"\"\n",
    "\n",
    "\n",
    "@schema\n",
    "class ElectrodeConfig(dj.Lookup):\n",
    "    definition = \"\"\"\n",
    "    -> Probe\n",
    "    electrode_config_name: varchar(16)  # user friendly name\n",
    "    ---\n",
    "    electrode_config_hash: varchar(36)  # hash of the group and group_member (ensure uniqueness)\n",
    "    unique index (electrode_config_hash)\n",
    "    \"\"\"\n",
    "\n",
    "    class ElectrodeGroup(dj.Part):\n",
    "        definition = \"\"\"\n",
    "        # grouping of electrodes to be clustered together (e.g. a neuropixel electrode config - 384/960)\n",
    "        -> master\n",
    "        electrode_group: int  # electrode group\n",
    "        \"\"\"\n",
    "\n",
    "    class Electrode(dj.Part):\n",
    "        definition = \"\"\"\n",
    "        -> master.ElectrodeGroup\n",
    "        -> Probe.Electrode\n",
    "        \"\"\"\n",
    "\n",
    "@schema\n",
    "class PhotoStimDevice(dj.Manual):\n",
    "    definition = \"\"\" # Change it to a lookup table\n",
    "    photo_stim_device  : varchar(20)\n",
    "    ---\n",
    "    excitation_wavelength :  decimal(5,1)  # (nm) \n",
    "    photostim_device_description : varchar(255)\n",
    "    \"\"\"\n",
    "\n",
    "@schema\n",
    "class ElecStimDevice(dj.Manual):\n",
    "    definition = \"\"\" # For all devices passing current\n",
    "    electrical_stim_device  : varchar(20)\n",
    "    ---\n",
    "    electrical_stim_device_description : varchar(255)\n",
    "    \"\"\"\n"
   ]
  },
  {
   "cell_type": "markdown",
   "metadata": {},
   "source": [
    "## Initialize reference schema\n",
    "Database for common information across experiments"
   ]
  },
  {
   "cell_type": "code",
   "execution_count": 25,
   "metadata": {},
   "outputs": [],
   "source": [
    "import datajoint as dj\n",
    "\n",
    "schema = dj.schema(dj.config.get('database.prefix', '') + 'reference')\n",
    "\n",
    "\n",
    "@schema\n",
    "class CellType(dj.Lookup):\n",
    "    definition = \"\"\"\n",
    "    #\n",
    "    cell_type  :  varchar(100)\n",
    "    ---\n",
    "    cell_type_description :  varchar(4000)\n",
    "    \"\"\"\n",
    "    contents = [\n",
    "        ('Pyr', 'putative pyramidal'),\n",
    "        ('FS', 'fast spiking'),\n",
    "        ('Proj', 'projection cell'),\n",
    "        ('not classified', ''),\n",
    "        ('all', 'all types')\n",
    "    ]\n",
    "\n",
    "\n",
    "@schema\n",
    "class SpikeSortingMethod(dj.Lookup):\n",
    "    definition = \"\"\"\n",
    "    spike_sort_method           : varchar(12)           # spike sort short name\n",
    "    ---\n",
    "    spike_sort_description      : varchar(1024)\n",
    "    \"\"\"\n",
    "    contents = [('SC', 'SpykingCircus'),\n",
    "    ('MS', 'MountainSort'),\n",
    "    ('JRC', 'JRclust'),\n",
    "    ('KS', 'KiloSort'),\n",
    "    ('POS', 'PlexonOfflineSorter'),\n",
    "    ('KK', 'KlustaKwick'),\n",
    "    ('MC', 'MClust'),\n",
    "    ('WC','WaveClus'),\n",
    "    ('S2','Spike2'),\n",
    "    ('WS','WaveformTemplate'),\n",
    "    ('PT','PhotoTagging'),\n",
    "    ('OM','OtherMethod')\n",
    "    ] \n"
   ]
  },
  {
   "cell_type": "markdown",
   "metadata": {},
   "source": [
    "## Initialize experimental schema\n",
    "Each line of experiments should have their own schema. This one is for awake whisker-related experiments.\n",
    "Since this one calls other schemas, it should be run locally. "
   ]
  },
  {
   "cell_type": "code",
   "execution_count": null,
   "metadata": {},
   "outputs": [],
   "source": []
  },
  {
   "cell_type": "markdown",
   "metadata": {},
   "source": [
    "## Initialize reference schema\n",
    "Database for common information across experiments"
   ]
  },
  {
   "cell_type": "code",
   "execution_count": null,
   "metadata": {},
   "outputs": [],
   "source": []
  },
  {
   "cell_type": "code",
   "execution_count": null,
   "metadata": {},
   "outputs": [],
   "source": []
  }
 ],
 "metadata": {
  "kernelspec": {
   "display_name": "Python 3",
   "language": "python",
   "name": "python3"
  },
  "language_info": {
   "codemirror_mode": {
    "name": "ipython",
    "version": 3
   },
   "file_extension": ".py",
   "mimetype": "text/x-python",
   "name": "python",
   "nbconvert_exporter": "python",
   "pygments_lexer": "ipython3",
   "version": "3.7.3"
  }
 },
 "nbformat": 4,
 "nbformat_minor": 2
}
