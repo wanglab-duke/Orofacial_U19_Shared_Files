{
 "cells": [
  {
   "cell_type": "markdown",
   "metadata": {},
   "source": [
    "# Step by step setup of DataJoint."
   ]
  },
  {
   "cell_type": "markdown",
   "metadata": {},
   "source": [
    "Step by step setup of DataJoint. Modified from [DJ 2017 workshop](https://github.com/mesoscale-activity-map/workshop-2017)."
   ]
  },
  {
   "cell_type": "markdown",
   "metadata": {},
   "source": [
    "## Core resources\n",
    "### \tDataJoint docs and tutorials:\n",
    ">[docs](https://docs.datajoint.io) and [tutorials](https://tutorials.datajoint.io)\n",
    "\n",
    ">[Manual](https://docs.datajoint.io/python/DataJointDocs_python-v0.11.pdf)\n",
    "\n",
    "### \tWeb interface:\n",
    ">[Helium](https://github.com/mattbdean/Helium)\n",
    "\n",
    "## Examples\n",
    "### \tMesoscale activity map project\n",
    ">https://github.com/mesoscale-activity-map/map-ephys/wiki\n",
    "### \tInagaki paper\n",
    ">https://github.com/vathes/Inagaki-2018-2019"
   ]
  },
  {
   "cell_type": "markdown",
   "metadata": {},
   "source": [
    "## [for admins] : Install the database on your server"
   ]
  },
  {
   "cell_type": "markdown",
   "metadata": {},
   "source": [
    "Use the MySQL docker: https://github.com/datajoint/mysql-docker. \n",
    "\n",
    "See instructions here: https://tutorials.datajoint.io/setting-up/local-database.html"
   ]
  },
  {
   "cell_type": "markdown",
   "metadata": {},
   "source": [
    "## Set up the connection from your computer"
   ]
  },
  {
   "cell_type": "markdown",
   "metadata": {},
   "source": [
    "Instal the DataJoint package on your computer\n",
    "\n",
    "* [Installing DataJoint for Python](https://tutorials.datajoint.io/setting-up/datajoint-python.html)\n",
    "\n",
    "* [Installing DataJoint for MATLAB](https://tutorials.datajoint.io/setting-up/datajoint-matlab.html)\n"
   ]
  },
  {
   "cell_type": "markdown",
   "metadata": {},
   "source": [
    "Import DataJoint package."
   ]
  },
  {
   "cell_type": "code",
   "execution_count": null,
   "metadata": {},
   "outputs": [],
   "source": [
    "import datajoint as dj"
   ]
  },
  {
   "cell_type": "markdown",
   "metadata": {},
   "source": [
    "Configure the connection."
   ]
  },
  {
   "cell_type": "code",
   "execution_count": null,
   "metadata": {},
   "outputs": [],
   "source": [
    "dj.config"
   ]
  },
  {
   "cell_type": "markdown",
   "metadata": {},
   "source": [
    "Set `database.host`, `database.user` and `database.password`."
   ]
  },
  {
   "cell_type": "markdown",
   "metadata": {},
   "source": [
    "Set the `database.host` to point to the MAPS project's DataJoint server hosted at [meoscale-activity.datajoint.io]()"
   ]
  },
  {
   "cell_type": "code",
   "execution_count": null,
   "metadata": {},
   "outputs": [],
   "source": [
    "dj.config['database.host'] = 'mesoscale-activity.datajoint.io'"
   ]
  },
  {
   "cell_type": "markdown",
   "metadata": {},
   "source": [
    "and set your username and password (here I'm using Python's `getpass` module to hide password entry)."
   ]
  },
  {
   "cell_type": "code",
   "execution_count": null,
   "metadata": {},
   "outputs": [],
   "source": [
    "import getpass\n",
    "dj.config['database.user'] = 'your user name'\n",
    "dj.config['database.password'] = getpass.getpass()"
   ]
  },
  {
   "cell_type": "markdown",
   "metadata": {},
   "source": [
    "## Saving the configuration"
   ]
  },
  {
   "cell_type": "markdown",
   "metadata": {},
   "source": [
    "To make accessing the database easier for the next time, you can save the current DataJoint config to a local file that will be loaded automatically the next time."
   ]
  },
  {
   "cell_type": "code",
   "execution_count": null,
   "metadata": {},
   "outputs": [],
   "source": [
    "dj.config.save_local()  # writes to dj_local_conf.json"
   ]
  },
  {
   "cell_type": "markdown",
   "metadata": {},
   "source": [
    "## Connecting to the schema"
   ]
  },
  {
   "cell_type": "markdown",
   "metadata": {},
   "source": [
    "The local file `alm1.py` contains schema and table definitions for ALM1 study (details can be found at [https://catalog.datajoint.io]())."
   ]
  },
  {
   "cell_type": "markdown",
   "metadata": {},
   "source": [
    "Go ahead and import the `alm1` module to gain access to the schema and tables."
   ]
  },
  {
   "cell_type": "code",
   "execution_count": null,
   "metadata": {},
   "outputs": [],
   "source": [
    "import alm1"
   ]
  },
  {
   "cell_type": "markdown",
   "metadata": {},
   "source": [
    "Let's now take a look at the structure of the schema by plotting the **entity relationship diagram** or ERD. Setup `matplotlib` to show plots inside the notebook."
   ]
  },
  {
   "cell_type": "code",
   "execution_count": null,
   "metadata": {},
   "outputs": [],
   "source": [
    "%matplotlib inline"
   ]
  },
  {
   "cell_type": "markdown",
   "metadata": {},
   "source": [
    "And finally plot ERD by calling `dj.ERD` on the schema `alm1`."
   ]
  },
  {
   "cell_type": "code",
   "execution_count": null,
   "metadata": {},
   "outputs": [],
   "source": [
    "dj.ERD(alm1)"
   ]
  },
  {
   "cell_type": "markdown",
   "metadata": {},
   "source": [
    "## Looking at the table contents"
   ]
  },
  {
   "cell_type": "markdown",
   "metadata": {},
   "source": [
    "You can view the content of any of the tables by accessing the class instance. For example, to look at the content of the `alm1.Ephys` table, simply do:"
   ]
  },
  {
   "cell_type": "code",
   "execution_count": null,
   "metadata": {},
   "outputs": [],
   "source": [
    "alm1.Ephys()  # instantiate the table to preview its content"
   ]
  },
  {
   "cell_type": "code",
   "execution_count": null,
   "metadata": {},
   "outputs": [],
   "source": []
  }
 ],
 "metadata": {
  "kernelspec": {
   "display_name": "Python 3",
   "language": "python",
   "name": "python3"
  },
  "language_info": {
   "codemirror_mode": {
    "name": "ipython",
    "version": 3
   },
   "file_extension": ".py",
   "mimetype": "text/x-python",
   "name": "python",
   "nbconvert_exporter": "python",
   "pygments_lexer": "ipython3",
   "version": "3.7.3"
  }
 },
 "nbformat": 4,
 "nbformat_minor": 2
}
